{
  "nbformat": 4,
  "nbformat_minor": 0,
  "metadata": {
    "colab": {
      "provenance": []
    },
    "kernelspec": {
      "name": "python3",
      "display_name": "Python 3"
    },
    "language_info": {
      "name": "python"
    }
  },
  "cells": [
    {
      "cell_type": "code",
      "execution_count": 1,
      "metadata": {
        "id": "N2bPxZZoiVXD"
      },
      "outputs": [],
      "source": [
        "#!pip install google-play-scraper"
      ]
    },
    {
      "cell_type": "code",
      "source": [
        "import pandas as pd\n",
        "from google_play_scraper import app\n",
        "from datetime import datetime\n",
        "\n",
        "def Parse(index, id):\n",
        "    global DF\n",
        "\n",
        "    try:\n",
        "        result = app(\n",
        "            id,\n",
        "            lang='en',\n",
        "            country='us'\n",
        "        )\n",
        "\n",
        "        for i in range(columnCount):\n",
        "            columnName = searchColumnList[i]\n",
        "            replaceName = replaceColumnList[i]\n",
        "            if columnName in result:\n",
        "                    #print(f\"{columnName}: {result[columnName]}\")\n",
        "                    #print(replaceName)\n",
        "                if columnName == \"updated\":\n",
        "                    timestamp = result[columnName]\n",
        "                    dt_object = datetime.fromtimestamp(timestamp)\n",
        "                    DF.loc[DF[\"App Id\"] == id, replaceName] =dt_object.strftime(\"%Y-%m-%d\")\n",
        "\n",
        "                else:\n",
        "                    DF.loc[DF[\"App Id\"] == id, replaceName] = result[columnName]\n",
        "\n",
        "        print(f\"[{index}][Success] {id}\")\n",
        "\n",
        "\n",
        "    except:\n",
        "        print(f\"[{index}][Error] {id}\")\n"
      ],
      "metadata": {
        "id": "u25BIVicifYr"
      },
      "execution_count": null,
      "outputs": []
    },
    {
      "cell_type": "code",
      "source": [
        "\"\"\"\n",
        "import math\n",
        "count = 3#math.floor(dataCount / THREAD_COUNT)\n",
        "\n",
        "from threading import Thread\n",
        "\n",
        "for i in range(THREAD_COUNT):\n",
        "    th = Thread(target=Parse, args=(i * count, i * count + count))\n",
        "    th.start()\n",
        "    th.join()\n",
        "\n",
        "# th1 = Thread(target=Parse, args=(1, START, END, result))\n",
        "# th1.start()\n",
        "# th1.join()\n",
        "\"\"\"\n",
        "COMPUTER = 5 # 수정 금지\n",
        "\n",
        "\n",
        "dataCount = len(DF) #2241856\n",
        "splitCount = int(dataCount / COMPUTER)\n",
        "\n",
        "myNum = 0\n",
        "count = 0\n",
        "print(f\"End: {myNum * splitCount + splitCount}\")\n",
        "\n",
        "#for i in range(myNum * splitCount, myNum * splitCount + splitCount):\n",
        "for i in range(len(DF)):\n",
        "    data = DF.iloc[i]\n",
        "    Parse(i, data[\"App Id\"])\n",
        "    count += 1\n",
        "    if count >= 1000:\n",
        "        DF.to_csv(f\"./twogtwob_game_{i}.csv\")\n",
        "        count = 0\n",
        "        print(f\"Save ~{i}\")\n",
        "\n",
        "DF.to_csv(f\"./twogtwob_game.csv\")\n",
        "\n",
        "print(\"파싱 완료\")"
      ],
      "metadata": {
        "id": "scwC3fJXipeA"
      },
      "execution_count": null,
      "outputs": []
    }
  ]
}